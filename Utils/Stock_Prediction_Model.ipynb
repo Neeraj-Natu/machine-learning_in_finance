{
 "cells": [
  {
   "cell_type": "code",
   "execution_count": 22,
   "metadata": {},
   "outputs": [],
   "source": [
    "import keras as keras\n",
    "from keras.models import Model\n",
    "from keras.models import load_model\n",
    "import pandas as pd\n",
    "import numpy as np\n",
    "from sklearn.metrics import mean_squared_error\n",
    "from sklearn.externals import joblib\n",
    "import lightgbm as lgb\n",
    "from sklearn.metrics import r2_score"
   ]
  },
  {
   "cell_type": "code",
   "execution_count": 23,
   "metadata": {},
   "outputs": [],
   "source": [
    "#Let's first load in the DNN model and see how that works on the test data\n",
    "\n",
    "DNN_loaded_model = load_model('..\\DNN\\model\\stock_prediction.h5');\n",
    "RandomForest_loaded_model = joblib.load('..\\Random-Forest\\model\\stock_prediction.sav');\n",
    "LightGBM_loaded_model = lgb.Booster(model_file='..\\lightgbm\\model\\stock_prediction.txt');"
   ]
  },
  {
   "cell_type": "code",
   "execution_count": 24,
   "metadata": {},
   "outputs": [],
   "source": [
    "# Now let's load in the test data\n",
    "\n",
    "X_test = np.genfromtxt(\"..\\data\\Train_data_scaled.csv\" , delimiter=\",\");\n",
    "Y_test = np.genfromtxt(\"..\\data\\Train_labels_scaled.csv\" , delimiter=\",\");"
   ]
  },
  {
   "cell_type": "code",
   "execution_count": 26,
   "metadata": {},
   "outputs": [],
   "source": [
    "# Let's do the predictions over all the models\n",
    "\n",
    "# First the DNN model\n",
    "Y_pred_DNN = DNN_loaded_model.predict(X_test, batch_size=None, verbose=0, steps=None);\n",
    "\n",
    "# Now the Random Forest\n",
    "Y_pred_RFR = RandomForest_loaded_model.predict(X_test);\n",
    "\n",
    "#And the Light GBM\n",
    "Y_pred_lGB = LightGBM_loaded_model.predict(X_test);"
   ]
  },
  {
   "cell_type": "code",
   "execution_count": 28,
   "metadata": {},
   "outputs": [
    {
     "name": "stdout",
     "output_type": "stream",
     "text": [
      "0.9996997634393431\n"
     ]
    }
   ],
   "source": [
    "# The Score for Random Forest\n",
    "\n",
    "Randomforest_score = r2_score(Y_test,Y_pred_RFR);\n",
    "print(Randomforest_score);"
   ]
  },
  {
   "cell_type": "code",
   "execution_count": 29,
   "metadata": {},
   "outputs": [
    {
     "name": "stdout",
     "output_type": "stream",
     "text": [
      "0.6965381993604061\n"
     ]
    }
   ],
   "source": [
    "# The Score for Light GBM\n",
    "\n",
    "lightgbm_score = r2_score(Y_test,Y_pred_lGB);\n",
    "print(lightgbm_score);"
   ]
  },
  {
   "cell_type": "code",
   "execution_count": 30,
   "metadata": {},
   "outputs": [
    {
     "name": "stdout",
     "output_type": "stream",
     "text": [
      "0.6942951621247908\n"
     ]
    }
   ],
   "source": [
    "## The score for DNN model \n",
    "DNN_score = r2_score(Y_test,Y_pred_DNN);\n",
    "print(DNN_score);"
   ]
  },
  {
   "cell_type": "code",
   "execution_count": 12,
   "metadata": {},
   "outputs": [],
   "source": [
    "#Let's save this in the predictions folder for now.\n",
    "\n",
    "np.savetxt(\"..\\predictions\\DNN_predictions.csv\",Y_pred_DNN,fmt=\"%G\", delimiter=\",\");\n",
    "np.savetxt(\"..\\predictions\\LGB_predictions.csv\",Y_pred_LGB,fmt=\"%G\", delimiter=\",\");\n",
    "np.savetxt(\"..\\predictions\\RFR_predictions.csv\",Y_pred_RFR,fmt=\"%G\", delimiter=\",\");"
   ]
  }
 ],
 "metadata": {
  "kernelspec": {
   "display_name": "Python 3",
   "language": "python",
   "name": "python3"
  },
  "language_info": {
   "codemirror_mode": {
    "name": "ipython",
    "version": 3
   },
   "file_extension": ".py",
   "mimetype": "text/x-python",
   "name": "python",
   "nbconvert_exporter": "python",
   "pygments_lexer": "ipython3",
   "version": "3.6.5"
  }
 },
 "nbformat": 4,
 "nbformat_minor": 2
}
