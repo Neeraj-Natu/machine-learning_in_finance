{
 "cells": [
  {
   "cell_type": "code",
   "execution_count": 2,
   "metadata": {},
   "outputs": [],
   "source": [
    "import keras as keras\n",
    "from keras.models import Model\n",
    "from keras.models import load_model\n",
    "import pandas as pd\n",
    "import numpy as np\n",
    "from sklearn.metrics import mean_squared_error\n",
    "from sklearn.externals import joblib"
   ]
  },
  {
   "cell_type": "code",
   "execution_count": 4,
   "metadata": {},
   "outputs": [],
   "source": [
    "#Let's first load in the DNN model and see how that works on the test data\n",
    "\n",
    "DNN_loaded_model = load_model('..\\DNN\\model\\stock_prediction.h5');\n",
    "RandomForest_loaded_model = joblib.load('..\\Random-Forest\\model\\stock_prediction.sav');\n"
   ]
  },
  {
   "cell_type": "code",
   "execution_count": 5,
   "metadata": {},
   "outputs": [],
   "source": [
    "# Now let's load in the test data\n",
    "\n",
    "X_test = np.genfromtxt(\"..\\data\\Test_data_scaled.csv\" , delimiter=\",\");\n",
    "Y_test = np.genfromtxt(\"..\\data\\Test_labels_scaled.csv\" , delimiter=\",\");"
   ]
  },
  {
   "cell_type": "code",
   "execution_count": 9,
   "metadata": {},
   "outputs": [],
   "source": [
    "# Let's do the predictions over all the models\n",
    "\n",
    "# First the DNN model\n",
    "Y_pred = DNN_loaded_model.predict(X_test, batch_size=None, verbose=0, steps=None);\n",
    "\n",
    "# Now the Random Forest\n",
    "Random_Forest_score = loaded_model.score(X_test, Y_test);"
   ]
  },
  {
   "cell_type": "code",
   "execution_count": 10,
   "metadata": {},
   "outputs": [
    {
     "name": "stdout",
     "output_type": "stream",
     "text": [
      "0.6665818040678451\n"
     ]
    }
   ],
   "source": [
    "# The Score for Random Forest\n",
    "\n",
    "print(Random_Forest_score);"
   ]
  },
  {
   "cell_type": "code",
   "execution_count": 11,
   "metadata": {},
   "outputs": [
    {
     "name": "stdout",
     "output_type": "stream",
     "text": [
      "The root mean error is :0.8684806542446157\n",
      "The accuracy thus is :13.151934575538426%\n"
     ]
    }
   ],
   "source": [
    "## Let's see how our model did overall\n",
    "rms = np.sqrt(mean_squared_error(Y_test, Y_pred));\n",
    "acc = 1 - rms;\n",
    "print(\"The root mean error is :\"+ str(rms));\n",
    "print(\"The accuracy thus is :\"+ str(acc * 100) + \"%\" );"
   ]
  },
  {
   "cell_type": "code",
   "execution_count": 12,
   "metadata": {},
   "outputs": [],
   "source": [
    "#Let's save this in the predictions folder for now.\n",
    "np.savetxt(\"..\\predictions\\DNN_predictions.csv\",Y_pred,fmt=\"%G\", delimiter=\",\");"
   ]
  }
 ],
 "metadata": {
  "kernelspec": {
   "display_name": "Python 3",
   "language": "python",
   "name": "python3"
  },
  "language_info": {
   "codemirror_mode": {
    "name": "ipython",
    "version": 3
   },
   "file_extension": ".py",
   "mimetype": "text/x-python",
   "name": "python",
   "nbconvert_exporter": "python",
   "pygments_lexer": "ipython3",
   "version": "3.6.5"
  }
 },
 "nbformat": 4,
 "nbformat_minor": 2
}
