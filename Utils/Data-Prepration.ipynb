{
 "cells": [
  {
   "cell_type": "code",
   "execution_count": 30,
   "metadata": {},
   "outputs": [],
   "source": [
    "import pandas as pd\n",
    "import requests"
   ]
  },
  {
   "cell_type": "code",
   "execution_count": 10,
   "metadata": {},
   "outputs": [],
   "source": [
    "# Loading the data into the notebook\n",
    "AAPL_df = pd.read_csv(\"../data/AAPL.csv\");\n",
    "ADBE_df = pd.read_csv(\"../data/ADBE.csv\");\n",
    "ATNT_df = pd.read_csv(\"../data/AT&T.csv\");\n",
    "CSCO_df = pd.read_csv(\"../data/CSCO.csv\");\n",
    "GE_df = pd.read_csv(\"../data/GE.csv\");\n",
    "HPQ_df = pd.read_csv(\"../data/HPQ.csv\");\n",
    "IBM_df = pd.read_csv(\"../data/IBM.csv\");\n",
    "INTU_df = pd.read_csv(\"../data/INTU.csv\");\n",
    "MSFT_df = pd.read_csv(\"../data/MSFT.csv\");\n",
    "TXN_df = pd.read_csv(\"../data/TXN.csv\");"
   ]
  },
  {
   "cell_type": "code",
   "execution_count": 43,
   "metadata": {},
   "outputs": [
    {
     "data": {
      "text/plain": [
       "timestamp    5982\n",
       "open         5982\n",
       "high         5982\n",
       "low          5982\n",
       "close        5982\n",
       "volume       5982\n",
       "dtype: int64"
      ]
     },
     "metadata": {},
     "output_type": "display_data"
    },
    {
     "data": {
      "text/plain": [
       "timestamp    5982\n",
       "open         5982\n",
       "high         5982\n",
       "low          5982\n",
       "close        5982\n",
       "volume       5982\n",
       "dtype: int64"
      ]
     },
     "metadata": {},
     "output_type": "display_data"
    },
    {
     "data": {
      "text/plain": [
       "timestamp    5982\n",
       "open         5982\n",
       "high         5982\n",
       "low          5982\n",
       "close        5982\n",
       "volume       5982\n",
       "dtype: int64"
      ]
     },
     "metadata": {},
     "output_type": "display_data"
    },
    {
     "data": {
      "text/plain": [
       "timestamp    5982\n",
       "open         5982\n",
       "high         5982\n",
       "low          5982\n",
       "close        5982\n",
       "volume       5982\n",
       "dtype: int64"
      ]
     },
     "metadata": {},
     "output_type": "display_data"
    },
    {
     "data": {
      "text/plain": [
       "timestamp    5982\n",
       "open         5982\n",
       "high         5982\n",
       "low          5982\n",
       "close        5982\n",
       "volume       5982\n",
       "dtype: int64"
      ]
     },
     "metadata": {},
     "output_type": "display_data"
    },
    {
     "data": {
      "text/plain": [
       "timestamp    5982\n",
       "open         5982\n",
       "high         5982\n",
       "low          5982\n",
       "close        5982\n",
       "volume       5982\n",
       "dtype: int64"
      ]
     },
     "metadata": {},
     "output_type": "display_data"
    },
    {
     "data": {
      "text/plain": [
       "timestamp    5982\n",
       "open         5982\n",
       "high         5982\n",
       "low          5982\n",
       "close        5982\n",
       "volume       5982\n",
       "dtype: int64"
      ]
     },
     "metadata": {},
     "output_type": "display_data"
    },
    {
     "data": {
      "text/plain": [
       "timestamp    5982\n",
       "open         5982\n",
       "high         5982\n",
       "low          5982\n",
       "close        5982\n",
       "volume       5982\n",
       "dtype: int64"
      ]
     },
     "metadata": {},
     "output_type": "display_data"
    },
    {
     "data": {
      "text/plain": [
       "timestamp    5981\n",
       "open         5981\n",
       "high         5981\n",
       "low          5981\n",
       "close        5981\n",
       "volume       5981\n",
       "dtype: int64"
      ]
     },
     "metadata": {},
     "output_type": "display_data"
    },
    {
     "data": {
      "text/plain": [
       "timestamp    5982\n",
       "open         5982\n",
       "high         5982\n",
       "low          5982\n",
       "close        5982\n",
       "volume       5982\n",
       "dtype: int64"
      ]
     },
     "metadata": {},
     "output_type": "display_data"
    }
   ],
   "source": [
    "# taking a look at the first and last few rows in the data\n",
    "display(AAPL_df.count())\n",
    "display(ADBE_df.count())\n",
    "display(ATNT_df.count())\n",
    "display(CSCO_df.count())\n",
    "display(GE_df.count())\n",
    "display(HPQ_df.count())\n",
    "display(IBM_df.count())\n",
    "display(INTU_df.count())\n",
    "display(MSFT_df.count())\n",
    "display(TXN_df.count())"
   ]
  },
  {
   "cell_type": "code",
   "execution_count": 38,
   "metadata": {},
   "outputs": [
    {
     "data": {
      "text/html": [
       "<div>\n",
       "<style scoped>\n",
       "    .dataframe tbody tr th:only-of-type {\n",
       "        vertical-align: middle;\n",
       "    }\n",
       "\n",
       "    .dataframe tbody tr th {\n",
       "        vertical-align: top;\n",
       "    }\n",
       "\n",
       "    .dataframe thead th {\n",
       "        text-align: right;\n",
       "    }\n",
       "</style>\n",
       "<table border=\"1\" class=\"dataframe\">\n",
       "  <thead>\n",
       "    <tr style=\"text-align: right;\">\n",
       "      <th></th>\n",
       "      <th>timestamp</th>\n",
       "      <th>open</th>\n",
       "      <th>high</th>\n",
       "      <th>low</th>\n",
       "      <th>close</th>\n",
       "      <th>volume</th>\n",
       "    </tr>\n",
       "  </thead>\n",
       "  <tbody>\n",
       "    <tr>\n",
       "      <th>0</th>\n",
       "      <td>02-10-2018</td>\n",
       "      <td>115.30</td>\n",
       "      <td>115.840</td>\n",
       "      <td>114.4449</td>\n",
       "      <td>115.316</td>\n",
       "      <td>8512144</td>\n",
       "    </tr>\n",
       "    <tr>\n",
       "      <th>1</th>\n",
       "      <td>01-10-2018</td>\n",
       "      <td>114.75</td>\n",
       "      <td>115.680</td>\n",
       "      <td>114.7300</td>\n",
       "      <td>115.610</td>\n",
       "      <td>18609600</td>\n",
       "    </tr>\n",
       "    <tr>\n",
       "      <th>2</th>\n",
       "      <td>28-09-2018</td>\n",
       "      <td>114.19</td>\n",
       "      <td>114.570</td>\n",
       "      <td>113.6800</td>\n",
       "      <td>114.370</td>\n",
       "      <td>21647811</td>\n",
       "    </tr>\n",
       "    <tr>\n",
       "      <th>3</th>\n",
       "      <td>27-09-2018</td>\n",
       "      <td>114.78</td>\n",
       "      <td>114.910</td>\n",
       "      <td>114.2000</td>\n",
       "      <td>114.410</td>\n",
       "      <td>19091299</td>\n",
       "    </tr>\n",
       "    <tr>\n",
       "      <th>4</th>\n",
       "      <td>26-09-2018</td>\n",
       "      <td>114.47</td>\n",
       "      <td>115.055</td>\n",
       "      <td>113.7400</td>\n",
       "      <td>113.980</td>\n",
       "      <td>19352025</td>\n",
       "    </tr>\n",
       "  </tbody>\n",
       "</table>\n",
       "</div>"
      ],
      "text/plain": [
       "    timestamp    open     high       low    close    volume\n",
       "0  02-10-2018  115.30  115.840  114.4449  115.316   8512144\n",
       "1  01-10-2018  114.75  115.680  114.7300  115.610  18609600\n",
       "2  28-09-2018  114.19  114.570  113.6800  114.370  21647811\n",
       "3  27-09-2018  114.78  114.910  114.2000  114.410  19091299\n",
       "4  26-09-2018  114.47  115.055  113.7400  113.980  19352025"
      ]
     },
     "metadata": {},
     "output_type": "display_data"
    },
    {
     "data": {
      "text/html": [
       "<div>\n",
       "<style scoped>\n",
       "    .dataframe tbody tr th:only-of-type {\n",
       "        vertical-align: middle;\n",
       "    }\n",
       "\n",
       "    .dataframe tbody tr th {\n",
       "        vertical-align: top;\n",
       "    }\n",
       "\n",
       "    .dataframe thead th {\n",
       "        text-align: right;\n",
       "    }\n",
       "</style>\n",
       "<table border=\"1\" class=\"dataframe\">\n",
       "  <thead>\n",
       "    <tr style=\"text-align: right;\">\n",
       "      <th></th>\n",
       "      <th>timestamp</th>\n",
       "      <th>open</th>\n",
       "      <th>high</th>\n",
       "      <th>low</th>\n",
       "      <th>close</th>\n",
       "      <th>volume</th>\n",
       "    </tr>\n",
       "  </thead>\n",
       "  <tbody>\n",
       "    <tr>\n",
       "      <th>5976</th>\n",
       "      <td>09-01-1995</td>\n",
       "      <td>60.88</td>\n",
       "      <td>61.00</td>\n",
       "      <td>59.75</td>\n",
       "      <td>60.25</td>\n",
       "      <td>2875000</td>\n",
       "    </tr>\n",
       "    <tr>\n",
       "      <th>5977</th>\n",
       "      <td>06-01-1995</td>\n",
       "      <td>59.88</td>\n",
       "      <td>61.25</td>\n",
       "      <td>59.75</td>\n",
       "      <td>60.63</td>\n",
       "      <td>2917600</td>\n",
       "    </tr>\n",
       "    <tr>\n",
       "      <th>5978</th>\n",
       "      <td>05-01-1995</td>\n",
       "      <td>60.88</td>\n",
       "      <td>61.00</td>\n",
       "      <td>59.38</td>\n",
       "      <td>59.63</td>\n",
       "      <td>2489000</td>\n",
       "    </tr>\n",
       "    <tr>\n",
       "      <th>5979</th>\n",
       "      <td>04-01-1995</td>\n",
       "      <td>60.25</td>\n",
       "      <td>60.75</td>\n",
       "      <td>59.50</td>\n",
       "      <td>60.63</td>\n",
       "      <td>3225700</td>\n",
       "    </tr>\n",
       "    <tr>\n",
       "      <th>5980</th>\n",
       "      <td>03-01-1995</td>\n",
       "      <td>61.50</td>\n",
       "      <td>61.50</td>\n",
       "      <td>60.13</td>\n",
       "      <td>60.19</td>\n",
       "      <td>2471600</td>\n",
       "    </tr>\n",
       "  </tbody>\n",
       "</table>\n",
       "</div>"
      ],
      "text/plain": [
       "       timestamp   open   high    low  close   volume\n",
       "5976  09-01-1995  60.88  61.00  59.75  60.25  2875000\n",
       "5977  06-01-1995  59.88  61.25  59.75  60.63  2917600\n",
       "5978  05-01-1995  60.88  61.00  59.38  59.63  2489000\n",
       "5979  04-01-1995  60.25  60.75  59.50  60.63  3225700\n",
       "5980  03-01-1995  61.50  61.50  60.13  60.19  2471600"
      ]
     },
     "metadata": {},
     "output_type": "display_data"
    },
    {
     "data": {
      "text/plain": [
       "timestamp    5981\n",
       "open         5981\n",
       "high         5981\n",
       "low          5981\n",
       "close        5981\n",
       "volume       5981\n",
       "dtype: int64"
      ]
     },
     "metadata": {},
     "output_type": "display_data"
    }
   ],
   "source": []
  },
  {
   "cell_type": "code",
   "execution_count": null,
   "metadata": {},
   "outputs": [],
   "source": []
  }
 ],
 "metadata": {
  "kernelspec": {
   "display_name": "Python 3",
   "language": "python",
   "name": "python3"
  },
  "language_info": {
   "codemirror_mode": {
    "name": "ipython",
    "version": 3
   },
   "file_extension": ".py",
   "mimetype": "text/x-python",
   "name": "python",
   "nbconvert_exporter": "python",
   "pygments_lexer": "ipython3",
   "version": "3.6.5"
  }
 },
 "nbformat": 4,
 "nbformat_minor": 2
}
